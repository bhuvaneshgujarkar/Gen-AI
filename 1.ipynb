{
 "cells": [
  {
   "cell_type": "code",
   "execution_count": 1,
   "id": "a7ae27b2",
   "metadata": {},
   "outputs": [
    {
     "name": "stdout",
     "output_type": "stream",
     "text": [
      "CUDA available: <module 'torch.cuda' from 'c:\\\\Users\\\\bhuva\\\\AppData\\\\Local\\\\Programs\\\\Python\\\\Python312\\\\Lib\\\\site-packages\\\\torch\\\\cuda\\\\__init__.py'>\n",
      "GPU device: <module 'torch.cuda' from 'c:\\\\Users\\\\bhuva\\\\AppData\\\\Local\\\\Programs\\\\Python\\\\Python312\\\\Lib\\\\site-packages\\\\torch\\\\cuda\\\\__init__.py'>\n",
      "CUDA version: <module 'torch.version' from 'c:\\\\Users\\\\bhuva\\\\AppData\\\\Local\\\\Programs\\\\Python\\\\Python312\\\\Lib\\\\site-packages\\\\torch\\\\version.py'>\n",
      "Number of GPUs: <module 'torch.cuda' from 'c:\\\\Users\\\\bhuva\\\\AppData\\\\Local\\\\Programs\\\\Python\\\\Python312\\\\Lib\\\\site-packages\\\\torch\\\\cuda\\\\__init__.py'>\n",
      "\n",
      "Using device: cuda\n"
     ]
    }
   ],
   "source": [
    "import torch\n",
    "\n",
    "# TODO: Check if CUDA is available\n",
    "cuda_available = torch.cuda  # Use  method\n",
    "\n",
    "print(f\"CUDA available: {cuda_available}\")\n",
    "\n",
    "if cuda_available:\n",
    "    # TODO: Get GPU device name\n",
    "    gpu_name = torch.cuda  # Use torch.cuda method\n",
    "    print(f\"GPU device: {gpu_name}\")\n",
    "    \n",
    "    # TODO: Get CUDA version\n",
    "    cuda_version = torch.version  # Use torch.version attribute\n",
    "    print(f\"CUDA version: {cuda_version}\")\n",
    "    \n",
    "    # TODO: Get number of available GPUs\n",
    "    gpu_count = torch.cuda  # Use torch.cuda method\n",
    "    print(f\"Number of GPUs: {gpu_count}\")\n",
    "    \n",
    "else:\n",
    "    print(\"⚠ No GPU available - using CPU\")\n",
    "    print(\"💡 Consider using Google Colab for free GPU access\")\n",
    "\n",
    "# TODO: Set device for computations\n",
    "device = torch.device('cuda') if cuda_available else torch.device('cpu')  # torch.device\n",
    "print(f\"\\nUsing device: {device}\")"
   ]
  }
 ],
 "metadata": {
  "kernelspec": {
   "display_name": "Python 3",
   "language": "python",
   "name": "python3"
  },
  "language_info": {
   "codemirror_mode": {
    "name": "ipython",
    "version": 3
   },
   "file_extension": ".py",
   "mimetype": "text/x-python",
   "name": "python",
   "nbconvert_exporter": "python",
   "pygments_lexer": "ipython3",
   "version": "3.12.6"
  }
 },
 "nbformat": 4,
 "nbformat_minor": 5
}
